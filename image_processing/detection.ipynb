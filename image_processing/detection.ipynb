{
 "cells": [
  {
   "cell_type": "code",
   "execution_count": 1,
   "id": "26f085e8-31f2-4b38-abcb-93df6088a8f8",
   "metadata": {},
   "outputs": [],
   "source": [
    "import cv2, os, math, glob\n",
    "import matplotlib.pyplot as plt\n",
    "\n",
    "from utils.common_tools import annotate_image, show_bgr\n",
    "from utils.common_tools import stack_videos, assemble_frames_to_video\n",
    "from utils.common_tools import find_nonzero_bounding_box, trim_video, draw_parallel_lines\n",
    "\n",
    "from src.detection_routine import find_birds"
   ]
  },
  {
   "cell_type": "code",
   "execution_count": 2,
   "id": "578c3b5a-3217-4098-8955-43f070972989",
   "metadata": {},
   "outputs": [],
   "source": [
    "def process_videos(base_name_list):\n",
    "    for image_name in base_name_list:\n",
    "        base_image_name = image_name\n",
    "\n",
    "    # Paths for input and output\n",
    "    truth_log_file_name = f\"synth_videos/{base_image_name}/frame_data.txt\"\n",
    "    videos_to_process = [f\"synth_videos/{base_image_name}/synth_track\"]\n",
    "\n",
    "    # Create the output directory for processed frames\n",
    "    processed_frames_dir = f\"synth_videos/{base_image_name}/processed_video_frames\"\n",
    "    rect_frames_dir = f\"synth_videos/{base_image_name}/rectified_processed_video_frames\"\n",
    "    os.makedirs(processed_frames_dir, exist_ok=True)\n",
    "    os.makedirs(rect_frames_dir, exist_ok=True)\n",
    "\n",
    "    # Create or open the processed_data.txt file\n",
    "    processed_data_file = open(f\"synth_videos/{base_image_name}/processed_data.txt\", \"w\")\n",
    "\n",
    "    # Write the header for the processed_data.txt file\n",
    "    processed_data_file.write(\"frame_index,cx,cy,w,h\\n\")\n",
    "\n",
    "    for v in videos_to_process:\n",
    "        video_to_process_path = v + \"_video.mp4\"\n",
    "        cap = cv2.VideoCapture(video_to_process_path)\n",
    "\n",
    "        if not cap.isOpened():\n",
    "            raise ValueError(f\"Error opening video file: {video_to_process_path}\")\n",
    "\n",
    "        for i in range(1, 60):\n",
    "            if i % 10 == 0:\n",
    "                print(f\"processing frame {i} in {image_name}\")\n",
    "            frame_number = i\n",
    "            # Set the frame position (0-based index)\n",
    "            frame_index = frame_number - 1\n",
    "            cap.set(cv2.CAP_PROP_POS_FRAMES, frame_index)\n",
    "\n",
    "            # Read the frame\n",
    "            ret, raw_frame = cap.read()\n",
    "            if not ret:\n",
    "                print(f\"Frame {frame_index} could not be read.\")\n",
    "                continue\n",
    "\n",
    "            # Process the frame and get the output data\n",
    "            rectified_frame, output_frame, cx, cy, w, h = find_birds(raw_frame)\n",
    "            \n",
    "            # Save the processed frame to the output directory\n",
    "            output_frame_path = os.path.join(processed_frames_dir, f\"frame_{frame_index:03}.jpg\")\n",
    "            rectified_frame_path = os.path.join(rect_frames_dir, f\"frame_rect_{frame_index:03}.jpg\")\n",
    "\n",
    "            cv2.imwrite(output_frame_path, output_frame)\n",
    "            cv2.imwrite(rectified_frame_path, rectified_frame)\n",
    "\n",
    "\n",
    "            # Write the data for the current frame to processed_data.txt\n",
    "            processed_data_file.write(f\"{frame_index},{cx},{cy},{w},{h}\\n\")\n",
    "\n",
    "    # Close the video capture and processed_data.txt file\n",
    "    cap.release()\n",
    "    processed_data_file.close()\n",
    "    output_video_path = f\"synth_videos/{base_image_name}/processed_track_video.mp4\" \n",
    "    output_rect_video_path = f\"synth_videos/{base_image_name}/rectified_processed_track_video.mp4\" \n",
    "\n",
    "    assemble_frames_to_video(processed_frames_dir, output_video_path, fps=15, frame_pattern='frame_*.jpg')\n",
    "    assemble_frames_to_video(rect_frames_dir, output_rect_video_path, fps=15, frame_pattern='frame_*.jpg')\n",
    "\n",
    "    output_rectrim_video_path = f\"synth_videos/{base_image_name}/processed_rect_trimmed_track_video.mp4\"\n",
    "    trim_video(output_rect_video_path , output_rectrim_video_path)\n",
    "\n",
    "    stack_videos(video1_path = output_video_path,\n",
    "                 video2_path = f\"synth_videos/{base_image_name}/synth_track_box_video.mp4\",\n",
    "                 output_video_path = f\"synth_videos/{base_image_name}/combined_video.mp4\")\n",
    "    \n",
    "    stack_videos(video1_path = output_rect_video_path,\n",
    "                 video2_path = f\"synth_videos/{base_image_name}/synth_track_box_video.mp4\",\n",
    "                 output_video_path = f\"synth_videos/{base_image_name}/rect_combined_video.mp4\")\n",
    "    "
   ]
  },
  {
   "cell_type": "code",
   "execution_count": 3,
   "id": "3a54c657-730b-4a31-9fc4-83e3db13068c",
   "metadata": {},
   "outputs": [
    {
     "name": "stdout",
     "output_type": "stream",
     "text": [
      "processing frame 10 in horizon_2\n",
      "processing frame 20 in horizon_2\n",
      "processing frame 30 in horizon_2\n",
      "processing frame 40 in horizon_2\n",
      "processing frame 50 in horizon_2\n",
      "Starting video assembly from 59 frames...\n",
      "Processed 10/59 frames.\n",
      "Processed 20/59 frames.\n",
      "Processed 30/59 frames.\n",
      "Processed 40/59 frames.\n",
      "Processed 50/59 frames.\n",
      "Processed 59/59 frames.\n",
      "Video successfully saved to 'synth_videos/horizon_2/processed_track_video.mp4'.\n",
      "Starting video assembly from 59 frames...\n",
      "Processed 10/59 frames.\n",
      "Processed 20/59 frames.\n",
      "Processed 30/59 frames.\n",
      "Processed 40/59 frames.\n",
      "Processed 50/59 frames.\n",
      "Processed 59/59 frames.\n",
      "Video successfully saved to 'synth_videos/horizon_2/rectified_processed_track_video.mp4'.\n",
      "Combined video saved at synth_videos/horizon_2/combined_video.mp4\n",
      "Combined video saved at synth_videos/horizon_2/rect_combined_video.mp4\n"
     ]
    }
   ],
   "source": [
    "#image_list = #4\",\"horizon_6\"]\n",
    "process_videos([\"horizon_2\",])"
   ]
  },
  {
   "cell_type": "code",
   "execution_count": null,
   "id": "91c393ef",
   "metadata": {},
   "outputs": [],
   "source": [
    "\n",
    "\n"
   ]
  }
 ],
 "metadata": {
  "kernelspec": {
   "display_name": "Python 3 (ipykernel)",
   "language": "python",
   "name": "python3"
  },
  "language_info": {
   "codemirror_mode": {
    "name": "ipython",
    "version": 3
   },
   "file_extension": ".py",
   "mimetype": "text/x-python",
   "name": "python",
   "nbconvert_exporter": "python",
   "pygments_lexer": "ipython3",
   "version": "3.10.12"
  }
 },
 "nbformat": 4,
 "nbformat_minor": 5
}
