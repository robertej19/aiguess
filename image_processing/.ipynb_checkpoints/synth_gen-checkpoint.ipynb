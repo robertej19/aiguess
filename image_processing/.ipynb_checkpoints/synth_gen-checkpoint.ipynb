{
 "cells": [
  {
   "cell_type": "code",
   "execution_count": 1,
   "id": "4b93b1f8-34a4-4cab-b99a-28790411912d",
   "metadata": {},
   "outputs": [
    {
     "ename": "ModuleNotFoundError",
     "evalue": "No module named 'utils.utils'",
     "output_type": "error",
     "traceback": [
      "\u001b[0;31m---------------------------------------------------------------------------\u001b[0m",
      "\u001b[0;31mModuleNotFoundError\u001b[0m                       Traceback (most recent call last)",
      "\u001b[0;32m/tmp/ipykernel_226340/1777064835.py\u001b[0m in \u001b[0;36m<module>\u001b[0;34m\u001b[0m\n\u001b[1;32m      8\u001b[0m \u001b[0;31m#\u001b[0m\u001b[0;34m\u001b[0m\u001b[0;34m\u001b[0m\u001b[0m\n\u001b[1;32m      9\u001b[0m \u001b[0;31m#sys.path.append(os.path.abspath(work_dir))\u001b[0m\u001b[0;34m\u001b[0m\u001b[0;34m\u001b[0m\u001b[0m\n\u001b[0;32m---> 10\u001b[0;31m \u001b[0;32mfrom\u001b[0m \u001b[0mgen_synth\u001b[0m \u001b[0;32mimport\u001b[0m \u001b[0mgenerate_sequence\u001b[0m\u001b[0;34m\u001b[0m\u001b[0;34m\u001b[0m\u001b[0m\n\u001b[0m\u001b[1;32m     11\u001b[0m \u001b[0;32mfrom\u001b[0m \u001b[0mutils\u001b[0m\u001b[0;34m.\u001b[0m\u001b[0mcommon\u001b[0m \u001b[0;32mimport\u001b[0m \u001b[0massemble_frames_to_video\u001b[0m\u001b[0;34m\u001b[0m\u001b[0;34m\u001b[0m\u001b[0m\n",
      "\u001b[0;32m~/mlearning/image_processing/gen_synth.py\u001b[0m in \u001b[0;36m<module>\u001b[0;34m\u001b[0m\n\u001b[1;32m      7\u001b[0m \u001b[0;34m\u001b[0m\u001b[0m\n\u001b[1;32m      8\u001b[0m \u001b[0msys\u001b[0m\u001b[0;34m.\u001b[0m\u001b[0mpath\u001b[0m\u001b[0;34m.\u001b[0m\u001b[0mappend\u001b[0m\u001b[0;34m(\u001b[0m\u001b[0mos\u001b[0m\u001b[0;34m.\u001b[0m\u001b[0mpath\u001b[0m\u001b[0;34m.\u001b[0m\u001b[0mabspath\u001b[0m\u001b[0;34m(\u001b[0m\u001b[0mos\u001b[0m\u001b[0;34m.\u001b[0m\u001b[0mpath\u001b[0m\u001b[0;34m.\u001b[0m\u001b[0mdirname\u001b[0m\u001b[0;34m(\u001b[0m\u001b[0m__file__\u001b[0m\u001b[0;34m)\u001b[0m\u001b[0;34m)\u001b[0m\u001b[0;34m)\u001b[0m\u001b[0;34m\u001b[0m\u001b[0;34m\u001b[0m\u001b[0m\n\u001b[0;32m----> 9\u001b[0;31m \u001b[0;32mfrom\u001b[0m \u001b[0mutils\u001b[0m\u001b[0;34m.\u001b[0m\u001b[0mcommon\u001b[0m \u001b[0;32mimport\u001b[0m \u001b[0mannotate_image\u001b[0m\u001b[0;34m,\u001b[0m\u001b[0mshow_bgr\u001b[0m\u001b[0;34m,\u001b[0m \u001b[0mannotate_truth\u001b[0m\u001b[0;34m\u001b[0m\u001b[0;34m\u001b[0m\u001b[0m\n\u001b[0m\u001b[1;32m     10\u001b[0m \u001b[0;32mfrom\u001b[0m \u001b[0mutils\u001b[0m\u001b[0;34m.\u001b[0m\u001b[0mgen\u001b[0m \u001b[0;32mimport\u001b[0m \u001b[0madd_random_noise\u001b[0m\u001b[0;34m,\u001b[0m \u001b[0madd_dot_and_bounding_box\u001b[0m\u001b[0;34m\u001b[0m\u001b[0;34m\u001b[0m\u001b[0m\n\u001b[1;32m     11\u001b[0m \u001b[0;34m\u001b[0m\u001b[0m\n",
      "\u001b[0;32m~/mlearning/image_processing/utils/__init__.py\u001b[0m in \u001b[0;36m<module>\u001b[0;34m\u001b[0m\n\u001b[0;32m----> 1\u001b[0;31m \u001b[0;32mfrom\u001b[0m \u001b[0;34m.\u001b[0m\u001b[0mutils\u001b[0m \u001b[0;32mimport\u001b[0m \u001b[0;34m*\u001b[0m\u001b[0;34m\u001b[0m\u001b[0;34m\u001b[0m\u001b[0m\n\u001b[0m",
      "\u001b[0;31mModuleNotFoundError\u001b[0m: No module named 'utils.utils'"
     ]
    }
   ],
   "source": [
    "import cv2, os, math, glob, sys\n",
    "import numpy as np\n",
    "import matplotlib.pyplot as plt\n",
    "from skimage import feature\n",
    "from sklearn.linear_model import LinearRegression\n",
    "from skimage.transform import rotate,warp\n",
    "\n",
    "#\n",
    "#sys.path.append(os.path.abspath(work_dir))\n",
    "from gen_synth import generate_sequence\n",
    "from utils.common import assemble_frames_to_video"
   ]
  },
  {
   "cell_type": "code",
   "execution_count": null,
   "id": "b99e96ee-a5ea-4aaa-bd65-73e455103353",
   "metadata": {},
   "outputs": [],
   "source": [
    "### Wrapper for many videos\n",
    "\n",
    "work_dir = os.getcwd()\n",
    "image_list = [\"horizon_2\",]#,\"horizon_4\",\"horizon_6\",\"horizon_8\",\"horizon_10\",\"horizon_12\"]\n",
    "\n",
    "for i in image_list:\n",
    "    base_image_name = i\n",
    "    \n",
    "    #set values\n",
    "    this_image_path = work_dir+\"/images/base_images/\"+base_image_name+\".png\"\n",
    "    this_output_dir_dot=\"synth_videos/\"+base_image_name+\"/synth_track\"\n",
    "    this_output_dir_box=\"synth_videos/\"+base_image_name+\"/synth_track_box\"\n",
    "    this_output_dir_pose=\"synth_videos/\"+base_image_name+\"/synth_track_pose\"\n",
    "    this_log_file_name=\"synth_videos/\"+base_image_name+\"/frame_data.txt\"\n",
    "    this_zoom_start = 1\n",
    "    this_zoom_end = 0.3 #0.5 is 2x zoom\n",
    "    this_pitch_start_deg = 0\n",
    "    this_pitch_end_deg = -50 #negative is up\n",
    "    this_yaw_amplitude_deg = 30\n",
    "    this_yaw_period=30 # frames per full left-right-left cycle\n",
    "    this_dot_y_center=300\n",
    "    this_dot_initial_x=800\n",
    "    this_dot_inter_frame_speed=10   # jump 10 px in global frame\n",
    "    this_dot_size=1\n",
    "    this_random_seed = 42\n",
    "    this_target_color = (114,114,181),\n",
    "    synth_noise_level = 0.0001\n",
    "\n",
    "    b = 1\n",
    "    if b:\n",
    "        generate_sequence(\n",
    "        large_image_path= this_image_path,\n",
    "        output_dir_dot=this_output_dir_dot,\n",
    "        output_dir_box=this_output_dir_box,\n",
    "        output_dir_pose=this_output_dir_pose,\n",
    "        log_file_name = this_log_file_name,\n",
    "        num_frames=60,\n",
    "        output_width=1280,\n",
    "        output_height=720,\n",
    "        zoom_start=this_zoom_start,\n",
    "        zoom_end=this_zoom_end,\n",
    "        pitch_start_deg=this_pitch_start_deg,\n",
    "        pitch_end_deg=this_pitch_end_deg,\n",
    "        yaw_amplitude_deg=this_yaw_amplitude_deg,\n",
    "        yaw_period=this_yaw_period,  \n",
    "        dot_y_center=this_dot_y_center,\n",
    "        dot_initial_x=this_dot_initial_x,\n",
    "        dot_inter_frame_speed=this_dot_inter_frame_speed,   \n",
    "        dot_size=this_dot_size,\n",
    "        seed=this_random_seed,\n",
    "        target_color =  this_target_color,\n",
    "        synth_noise_level = synth_noise_level\n",
    "        )\n",
    "\n",
    "        videos_to_assemble = [this_output_dir_dot,this_output_dir_box,this_output_dir_pose]\n",
    "    \n",
    "        for v in videos_to_assemble:\n",
    "            input_directory = v\n",
    "            output_video = input_directory+\"_video.mp4\"\n",
    "            frames_per_second = 15  # FPS for the video\n",
    "            frame_glob_pattern = 'frame*.jpg'  # Pattern to match frames with bounding boxes\n",
    "        \n",
    "            try:\n",
    "                assemble_frames_to_video(\n",
    "                    input_dir=input_directory,\n",
    "                    output_video_path=output_video,\n",
    "                    fps=frames_per_second,\n",
    "                    frame_pattern=frame_glob_pattern)\n",
    "            except ValueError as ve:\n",
    "                print(f\"Error: {ve}\")\n",
    "\n"
   ]
  },
  {
   "cell_type": "code",
   "execution_count": null,
   "id": "ac3e7f89-d8d1-4aba-8ced-ca5419c9fa2a",
   "metadata": {},
   "outputs": [],
   "source": [
    "## INCLUDE GENERATIVE UPSCALING AS FLY INTO FRAME"
   ]
  }
 ],
 "metadata": {
  "kernelspec": {
   "display_name": "Python 3 (ipykernel)",
   "language": "python",
   "name": "python3"
  },
  "language_info": {
   "codemirror_mode": {
    "name": "ipython",
    "version": 3
   },
   "file_extension": ".py",
   "mimetype": "text/x-python",
   "name": "python",
   "nbconvert_exporter": "python",
   "pygments_lexer": "ipython3",
   "version": "3.10.12"
  }
 },
 "nbformat": 4,
 "nbformat_minor": 5
}
